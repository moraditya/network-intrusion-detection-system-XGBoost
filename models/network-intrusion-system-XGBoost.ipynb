{
 "cells": [
  {
   "cell_type": "code",
   "execution_count": 1,
   "id": "fedd4551",
   "metadata": {},
   "outputs": [],
   "source": [
    "# import relevant libraries\n",
    "\n",
    "import numpy as np \n",
    "import pandas as pd \n",
    "from sklearn.model_selection import train_test_split\n",
    "from sklearn.metrics import classification_report, accuracy_score\n",
    "from imblearn.over_sampling import SMOTE\n",
    "from xgboost import XGBClassifier\n",
    "from sklearn.model_selection import cross_val_score\n",
    "from sklearn.preprocessing import LabelEncoder"
   ]
  },
  {
   "cell_type": "code",
   "execution_count": 2,
   "id": "0d29ad35",
   "metadata": {},
   "outputs": [],
   "source": [
    "# load all csv files with headers, except ftp-write, which does not have column names\n",
    "df_back = pd.read_csv(r\"/Users/adityamxr/Desktop/Cybersecurity Project/data/Data_of_Attack_Back.csv\")\n",
    "df_buffer_overflow = pd.read_csv(r\"/Users/adityamxr/Desktop/Cybersecurity Project/data/Data_of_Attack_Back_BufferOverflow.csv\")\n",
    "df_guess_password = pd.read_csv(r\"/Users/adityamxr/Desktop/Cybersecurity Project/data/Data_of_Attack_Back_GuessPassword.csv\")\n",
    "df_neptune = pd.read_csv(r\"/Users/adityamxr/Desktop/Cybersecurity Project/data/Data_of_Attack_Back_Neptune.csv\")\n",
    "df_nmap = pd.read_csv(r\"/Users/adityamxr/Desktop/Cybersecurity Project/data/Data_of_Attack_Back_NMap.csv\")\n",
    "df_normal = pd.read_csv(r\"/Users/adityamxr/Desktop/Cybersecurity Project/data/Data_of_Attack_Back_Normal.csv\")\n",
    "df_port_sweep = pd.read_csv(r\"/Users/adityamxr/Desktop/Cybersecurity Project/data/Data_of_Attack_Back_PortSweep.csv\")\n",
    "df_rootkit = pd.read_csv(r\"/Users/adityamxr/Desktop/Cybersecurity Project/data/Data_of_Attack_Back_RootKit.csv\")\n",
    "df_satan = pd.read_csv(r\"/Users/adityamxr/Desktop/Cybersecurity Project/data/Data_of_Attack_Back_Satan.csv\")\n",
    "df_smurf = pd.read_csv(r\"/Users/adityamxr/Desktop/Cybersecurity Project/data/Data_of_Attack_Back_Smurf.csv\")"
   ]
  },
  {
   "cell_type": "code",
   "execution_count": 3,
   "id": "242deca6",
   "metadata": {},
   "outputs": [],
   "source": [
    "# load ftp-write without headers\n",
    "df_ftp_write = pd.read_csv(r\"/Users/adityamxr/Desktop/Cybersecurity Project/data/Data_of_Attack_Back_FTPWrite.csv\", header = None)"
   ]
  },
  {
   "cell_type": "code",
   "execution_count": null,
   "id": "f508623b",
   "metadata": {},
   "outputs": [],
   "source": []
  }
 ],
 "metadata": {
  "kernelspec": {
   "display_name": "Python 3 (ipykernel)",
   "language": "python",
   "name": "python3"
  },
  "language_info": {
   "codemirror_mode": {
    "name": "ipython",
    "version": 3
   },
   "file_extension": ".py",
   "mimetype": "text/x-python",
   "name": "python",
   "nbconvert_exporter": "python",
   "pygments_lexer": "ipython3",
   "version": "3.11.5"
  }
 },
 "nbformat": 4,
 "nbformat_minor": 5
}
